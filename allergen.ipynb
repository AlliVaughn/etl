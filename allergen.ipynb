{
 "cells": [
  {
   "cell_type": "code",
   "execution_count": 1,
   "metadata": {},
   "outputs": [],
   "source": [
    "import os\n",
    "import csv\n",
    "import datetime as dt \n",
    "from splinter import Browser\n",
    "from bs4 import BeautifulSoup\n",
    "import re\n",
    "from selenium import webdriver\n",
    "import json\n",
    "import pandas\n"
   ]
  },
  {
   "cell_type": "code",
   "execution_count": 4,
   "metadata": {},
   "outputs": [
    {
     "data": {
      "text/plain": [
       "['resources/html_files/10_october_2019_cal.html',\n",
       " 'resources/html_files/07_july_2019_cal.html',\n",
       " 'resources/html_files/09_september_2019_cal.html',\n",
       " 'resources/html_files/04_april_2019_cal.html',\n",
       " 'resources/html_files/02_february_2019_cal.html',\n",
       " 'resources/html_files/08_august_2019_cal.html',\n",
       " 'resources/html_files/03_march_2019_cal.html',\n",
       " 'resources/html_files/05_may_2019_cal.html',\n",
       " 'resources/html_files/01_january_2019_cal.html',\n",
       " 'resources/html_files/06_june_2019_cal.html']"
      ]
     },
     "execution_count": 4,
     "metadata": {},
     "output_type": "execute_result"
    }
   ],
   "source": [
    "# Web Scraped Data: \n",
    "# [KVUE Allergy Calendar](https://kvue.com/allergy)\n",
    "# Scrape Monthly Allergy Calendar data as PDFs \n",
    "# save each to html\n",
    "# loop through html files to make a list \n",
    "\n",
    "files = os.listdir('resources/html_files')\n",
    "url = 'resources/html_files'\n",
    "\n",
    "file_list = []\n",
    "for f in files:\n",
    "    file_list.append(url + \"/\" + f)  \n",
    "file_list"
   ]
  },
  {
   "cell_type": "code",
   "execution_count": null,
   "metadata": {},
   "outputs": [],
   "source": []
  },
  {
   "cell_type": "code",
   "execution_count": null,
   "metadata": {},
   "outputs": [],
   "source": []
  }
 ],
 "metadata": {
  "kernelspec": {
   "display_name": "Python 3",
   "language": "python",
   "name": "python3"
  },
  "language_info": {
   "codemirror_mode": {
    "name": "ipython",
    "version": 3
   },
   "file_extension": ".py",
   "mimetype": "text/x-python",
   "name": "python",
   "nbconvert_exporter": "python",
   "pygments_lexer": "ipython3",
   "version": "3.7.3"
  }
 },
 "nbformat": 4,
 "nbformat_minor": 2
}
